{
 "cells": [
  {
   "cell_type": "code",
   "execution_count": null,
   "id": "b7098549-4d70-4674-bd1e-ba2c348528d8",
   "metadata": {},
   "outputs": [],
   "source": [
    "import requests\n",
    "import urllib.request\n",
    "import time\n",
    "from bs4 import BeautifulSoup\n",
    "import numpy as np\n",
    "import pandas as pd\n",
    "from urllib.request import urlopen"
   ]
  },
  {
   "cell_type": "code",
   "execution_count": null,
   "id": "1418d13e-f21f-45b3-921c-4600ea6fde1d",
   "metadata": {},
   "outputs": [],
   "source": [
    "import json\n",
    "import sys\n",
    "sys.setrecursionlimit(1500)"
   ]
  },
  {
   "cell_type": "code",
   "execution_count": null,
   "id": "75af80e8-bf7d-48e0-935d-12a34bc40cc5",
   "metadata": {},
   "outputs": [],
   "source": [
    "def parse_return_lists(url):\n",
    "    lists = list()\n",
    "    try:\n",
    "        r = requests.get(url)\n",
    "        if r.status_code == 200:\n",
    "            html = urlopen(url) \n",
    "            soup = BeautifulSoup(html, 'html.parser')\n",
    "            \n",
    "            #find all lists on the given page\n",
    "            elems = soup.find_all(\"li\")\n",
    "            \n",
    "            \n",
    "            for x in elems:\n",
    "                cite = x.select('a[href]')\n",
    "                if cite!=[]:\n",
    "                    \n",
    "                    #extract links to lists\n",
    "                    for x in cite:\n",
    "                        if (x.attrs['href'].startswith(\"/wiki/Lists\") or \"lists\" in x.attrs['href']) and x.attrs['href'] not in listoflists:\n",
    "                            yield x.attrs['href']\n",
    "                        elif x.attrs['href'].startswith(\"/wiki/List_of\"):\n",
    "                            if cite[0].attrs['href'].startswith(\"/wiki/List_of_lists_of_lists\")!=True:\n",
    "                                yield x.attrs['href']\n",
    "    except:\n",
    "        print(url)\n",
    "        pass"
   ]
  },
  {
   "cell_type": "code",
   "execution_count": null,
   "id": "0d4d2925-6efc-45b2-a530-5da6339a04c6",
   "metadata": {},
   "outputs": [],
   "source": [
    "#parse list of lists of lists, extract links to the lists\n",
    "\n",
    "url = 'https://en.wikipedia.org/wiki/List_of_lists_of_lists'\n",
    "urls = []\n",
    "l = parse_return_lists(url)"
   ]
  },
  {
   "cell_type": "code",
   "execution_count": null,
   "id": "fab2ac82-a4ae-427d-a8b5-677df5675016",
   "metadata": {},
   "outputs": [],
   "source": [
    "listoflists  =[]\n",
    "for x in l:\n",
    "    if x not in listoflists:\n",
    "        listoflists.append(x)\n",
    "print(len(listoflists))"
   ]
  },
  {
   "cell_type": "code",
   "execution_count": null,
   "id": "60af88b4-6519-46d1-958c-8b33fabf576b",
   "metadata": {},
   "outputs": [],
   "source": [
    "#saves \"List of\", that doesn't need further parsing, to lists; returns \"Lists of\", that need further parsing\n",
    "def extract_lists(t):\n",
    "    t2 = []\n",
    "    for x in t:\n",
    "        if x.startswith(\"/wiki/List_of\") and x not in lists:\n",
    "            lists.append(x)\n",
    "        else:\n",
    "            t2.append(x)\n",
    "    print(\"Parsed: \",len(lists))\n",
    "    print(\"To parse: \", len(t2))\n",
    "    return t2"
   ]
  },
  {
   "cell_type": "code",
   "execution_count": null,
   "id": "fa95d11e-c0de-4783-bcae-f4759b72ca67",
   "metadata": {},
   "outputs": [],
   "source": [
    "#returns \"List of\" and \"Lists of\", mixed\n",
    "def parse_it(it):\n",
    "    temp = []\n",
    "    for x in it:\n",
    "        l = parse_return_lists(\"https://en.wikipedia.org\"+x)\n",
    "        for y in l:\n",
    "            if y not in temp:\n",
    "                temp.append(y)\n",
    "\n",
    "    print(\"New: \",len(temp))\n",
    "    return temp"
   ]
  },
  {
   "cell_type": "code",
   "execution_count": null,
   "id": "11e1f063-4865-4e78-8b71-2d3633159496",
   "metadata": {},
   "outputs": [],
   "source": [
    "lists = []\n",
    "it1 = extract_lists(listoflists)"
   ]
  },
  {
   "cell_type": "code",
   "execution_count": null,
   "id": "bceb017e-be10-42fd-9844-33370057ffb2",
   "metadata": {},
   "outputs": [],
   "source": [
    "def extraction(i, current_it):\n",
    "    if i<20:\n",
    "        print(i)\n",
    "        next_it = parse_it(current_it)\n",
    "        next_it = extract_lists(next_it)\n",
    "        df = pd.DataFrame({\"list\":lists})\n",
    "        df.to_csv(\"wikilists_depth_\"+str(i)+\".tsv\", sep = '\\t')\n",
    "        df = pd.DataFrame({\"list\":it3})\n",
    "        df.to_csv(\"wikilists_to_parse_depth_\"+str(i)+\".tsv\", sep = '\\t')\n",
    "        i+=1\n",
    "        extraction(i, current_it)\n",
    "    else:\n",
    "        print(\"Complete WikiLists parsing to depth 20\")"
   ]
  },
  {
   "cell_type": "code",
   "execution_count": null,
   "id": "479b6aeb-bd17-4d3e-b57c-877bc187ff42",
   "metadata": {},
   "outputs": [],
   "source": [
    "i = 1\n",
    "extraction(i, it1)"
   ]
  }
 ],
 "metadata": {
  "kernelspec": {
   "display_name": "Python 3",
   "language": "python",
   "name": "python3"
  },
  "language_info": {
   "codemirror_mode": {
    "name": "ipython",
    "version": 3
   },
   "file_extension": ".py",
   "mimetype": "text/x-python",
   "name": "python",
   "nbconvert_exporter": "python",
   "pygments_lexer": "ipython3",
   "version": "3.8.8"
  }
 },
 "nbformat": 4,
 "nbformat_minor": 5
}
